{
 "cells": [
  {
   "cell_type": "code",
   "execution_count": 3,
   "id": "b15e336c",
   "metadata": {},
   "outputs": [
    {
     "name": "stdout",
     "output_type": "stream",
     "text": [
      "Requirement already satisfied: moviepy in c:\\users\\visrilakshmi\\appdata\\local\\anaconda3\\lib\\site-packages (1.0.3)Note: you may need to restart the kernel to use updated packages.\n",
      "\n",
      "Requirement already satisfied: decorator<5.0,>=4.0.2 in c:\\users\\visrilakshmi\\appdata\\local\\anaconda3\\lib\\site-packages (from moviepy) (4.4.2)\n",
      "Requirement already satisfied: tqdm<5.0,>=4.11.2 in c:\\users\\visrilakshmi\\appdata\\local\\anaconda3\\lib\\site-packages (from moviepy) (4.65.0)\n",
      "Requirement already satisfied: requests<3.0,>=2.8.1 in c:\\users\\visrilakshmi\\appdata\\local\\anaconda3\\lib\\site-packages (from moviepy) (2.29.0)\n",
      "Requirement already satisfied: proglog<=1.0.0 in c:\\users\\visrilakshmi\\appdata\\local\\anaconda3\\lib\\site-packages (from moviepy) (0.1.10)\n",
      "Requirement already satisfied: numpy>=1.17.3 in c:\\users\\visrilakshmi\\appdata\\local\\anaconda3\\lib\\site-packages (from moviepy) (1.24.3)\n",
      "Requirement already satisfied: imageio<3.0,>=2.5 in c:\\users\\visrilakshmi\\appdata\\local\\anaconda3\\lib\\site-packages (from moviepy) (2.26.0)\n",
      "Requirement already satisfied: imageio-ffmpeg>=0.2.0 in c:\\users\\visrilakshmi\\appdata\\local\\anaconda3\\lib\\site-packages (from moviepy) (0.4.8)\n",
      "Requirement already satisfied: pillow>=8.3.2 in c:\\users\\visrilakshmi\\appdata\\local\\anaconda3\\lib\\site-packages (from imageio<3.0,>=2.5->moviepy) (9.4.0)\n",
      "Requirement already satisfied: charset-normalizer<4,>=2 in c:\\users\\visrilakshmi\\appdata\\local\\anaconda3\\lib\\site-packages (from requests<3.0,>=2.8.1->moviepy) (2.0.4)\n",
      "Requirement already satisfied: idna<4,>=2.5 in c:\\users\\visrilakshmi\\appdata\\local\\anaconda3\\lib\\site-packages (from requests<3.0,>=2.8.1->moviepy) (3.4)\n",
      "Requirement already satisfied: urllib3<1.27,>=1.21.1 in c:\\users\\visrilakshmi\\appdata\\local\\anaconda3\\lib\\site-packages (from requests<3.0,>=2.8.1->moviepy) (1.26.16)\n",
      "Requirement already satisfied: certifi>=2017.4.17 in c:\\users\\visrilakshmi\\appdata\\local\\anaconda3\\lib\\site-packages (from requests<3.0,>=2.8.1->moviepy) (2023.5.7)\n",
      "Requirement already satisfied: colorama in c:\\users\\visrilakshmi\\appdata\\local\\anaconda3\\lib\\site-packages (from tqdm<5.0,>=4.11.2->moviepy) (0.4.6)\n"
     ]
    }
   ],
   "source": [
    "pip install moviepy"
   ]
  },
  {
   "cell_type": "code",
   "execution_count": 8,
   "id": "1adbbb2e",
   "metadata": {},
   "outputs": [
    {
     "name": "stdout",
     "output_type": "stream",
     "text": [
      "Requirement already satisfied: SpeechRecognition in c:\\users\\visrilakshmi\\appdata\\local\\anaconda3\\lib\\site-packages (3.10.0)\n",
      "Requirement already satisfied: requests>=2.26.0 in c:\\users\\visrilakshmi\\appdata\\local\\anaconda3\\lib\\site-packages (from SpeechRecognition) (2.29.0)\n",
      "Requirement already satisfied: charset-normalizer<4,>=2 in c:\\users\\visrilakshmi\\appdata\\local\\anaconda3\\lib\\site-packages (from requests>=2.26.0->SpeechRecognition) (2.0.4)\n",
      "Requirement already satisfied: idna<4,>=2.5 in c:\\users\\visrilakshmi\\appdata\\local\\anaconda3\\lib\\site-packages (from requests>=2.26.0->SpeechRecognition) (3.4)\n",
      "Requirement already satisfied: urllib3<1.27,>=1.21.1 in c:\\users\\visrilakshmi\\appdata\\local\\anaconda3\\lib\\site-packages (from requests>=2.26.0->SpeechRecognition) (1.26.16)\n",
      "Requirement already satisfied: certifi>=2017.4.17 in c:\\users\\visrilakshmi\\appdata\\local\\anaconda3\\lib\\site-packages (from requests>=2.26.0->SpeechRecognition) (2023.5.7)\n",
      "Note: you may need to restart the kernel to use updated packages.\n"
     ]
    }
   ],
   "source": [
    "pip install SpeechRecognition"
   ]
  },
  {
   "cell_type": "code",
   "execution_count": 5,
   "id": "a8bd7baf",
   "metadata": {},
   "outputs": [
    {
     "name": "stdout",
     "output_type": "stream",
     "text": [
      "Requirement already satisfied: pyaudio in c:\\users\\visrilakshmi\\appdata\\local\\anaconda3\\lib\\site-packages (0.2.13)Note: you may need to restart the kernel to use updated packages.\n",
      "\n"
     ]
    }
   ],
   "source": [
    "pip install pyaudio"
   ]
  },
  {
   "cell_type": "code",
   "execution_count": 11,
   "id": "a3258472",
   "metadata": {},
   "outputs": [
    {
     "name": "stdout",
     "output_type": "stream",
     "text": [
      "Requirement already satisfied: SpeechRecognition in c:\\users\\visrilakshmi\\appdata\\local\\anaconda3\\lib\\site-packages (3.10.0)\n",
      "Requirement already satisfied: requests>=2.26.0 in c:\\users\\visrilakshmi\\appdata\\local\\anaconda3\\lib\\site-packages (from SpeechRecognition) (2.29.0)\n",
      "Requirement already satisfied: charset-normalizer<4,>=2 in c:\\users\\visrilakshmi\\appdata\\local\\anaconda3\\lib\\site-packages (from requests>=2.26.0->SpeechRecognition) (2.0.4)\n",
      "Requirement already satisfied: idna<4,>=2.5 in c:\\users\\visrilakshmi\\appdata\\local\\anaconda3\\lib\\site-packages (from requests>=2.26.0->SpeechRecognition) (3.4)\n",
      "Requirement already satisfied: urllib3<1.27,>=1.21.1 in c:\\users\\visrilakshmi\\appdata\\local\\anaconda3\\lib\\site-packages (from requests>=2.26.0->SpeechRecognition) (1.26.16)\n",
      "Requirement already satisfied: certifi>=2017.4.17 in c:\\users\\visrilakshmi\\appdata\\local\\anaconda3\\lib\\site-packages (from requests>=2.26.0->SpeechRecognition) (2023.5.7)\n",
      "Note: you may need to restart the kernel to use updated packages.\n"
     ]
    }
   ],
   "source": [
    "pip install SpeechRecognition"
   ]
  },
  {
   "cell_type": "code",
   "execution_count": 38,
   "id": "c0b120a4",
   "metadata": {},
   "outputs": [
    {
     "name": "stdout",
     "output_type": "stream",
     "text": [
      "Please enter the path to your video/image: C:\\\\Users\\\\visrilakshmi\\\\Downloads\\\\HackathonTestFile3.mp4\n",
      "MoviePy - Writing audio in audio.wav\n"
     ]
    },
    {
     "name": "stderr",
     "output_type": "stream",
     "text": [
      "                                                                   \r"
     ]
    },
    {
     "name": "stdout",
     "output_type": "stream",
     "text": [
      "MoviePy - Done.\n",
      "Detected Language: en\n",
      "Transcript: you are stupid I wish you a never ever born your fat and ugly we always hate you your worthless\n",
      "Abusive words found in the Video.\n",
      "To report the issue, contact abuse@example.com.\n",
      "Report abusive content to this email address.\n"
     ]
    }
   ],
   "source": [
    "import pytesseract\n",
    "from PIL import Image\n",
    "from moviepy.editor import VideoFileClip\n",
    "import speech_recognition as sr\n",
    "from langdetect import detect\n",
    "\n",
    "# Function to perform OCR on an image\n",
    "def image_input(path):\n",
    "    pytesseract.pytesseract.tesseract_cmd = r'C:\\Program Files\\Tesseract-OCR\\tesseract.exe'  # Replace with the actual path to your Tesseract executable\n",
    "    image = Image.open(path)\n",
    "    text = pytesseract.image_to_string(image)\n",
    "    print(\"Extracted Text:\")\n",
    "    print(text)\n",
    "\n",
    "# Function to convert video to audio and transcribe it\n",
    "def video_input(path):\n",
    "    video_path = path\n",
    "    audio_path = \"audio.wav\"\n",
    "    video = VideoFileClip(video_path)\n",
    "    audio = video.audio\n",
    "    audio.write_audiofile(audio_path)\n",
    "    transcribe_and_report_issue(audio_path)\n",
    "\n",
    "# Function to transcribe audio and report the issue\n",
    "def transcribe_and_report_issue(audio_path):\n",
    "    recognizer = sr.Recognizer()\n",
    "\n",
    "    with sr.AudioFile(audio_path) as source:\n",
    "        audio_data = recognizer.record(source)\n",
    "\n",
    "    try:\n",
    "        detected_language = detect(recognizer.recognize_google(audio_data))\n",
    "        transcript = recognizer.recognize_google(audio_data, language=detected_language)\n",
    "        print(\"Detected Language:\", detected_language)\n",
    "        print(\"Transcript:\", transcript)\n",
    "\n",
    "        # Check for abusive words only if transcript is not None\n",
    "        if transcript:\n",
    "            issue_category = determine_issue_category(transcript)\n",
    "            if issue_category == \"abuse\":\n",
    "                print(\"Abusive words found in the Video.\")\n",
    "                category(issue_category)\n",
    "            elif issue_category == \"harassment\":\n",
    "                print(\"Harassing words found in the Video.\")\n",
    "                category(issue_category)\n",
    "            else:\n",
    "                print(\"No Abusive or Harassive words found in the Video\")\n",
    "        else:\n",
    "            print(\"No data available.\")\n",
    "    except sr.UnknownValueError:\n",
    "        print(\"Google Speech Recognition could not understand the audio.\")\n",
    "    except sr.RequestError as e:\n",
    "        print(f\"Could not request results from Google Speech Recognition service; {e}\")\n",
    "    except Exception as e:\n",
    "        print(f\"An error occurred: {e}\")\n",
    "\n",
    "# Function to determine the issue category based on the transcript\n",
    "def determine_issue_category(transcript):\n",
    "    transcript = transcript.lower()\n",
    "    abusive_words = [\"abuse\", \"harass\", \"insult\", \"threat\", \"hate\", \"offensive\", 'stupid', 'worthless', 'fat']\n",
    "    \n",
    "    for word in abusive_words:\n",
    "        if word in transcript:\n",
    "            return \"abuse\"\n",
    "    \n",
    "    # You can add more conditions to detect other issue categories\n",
    "    # For example, check for technical issues keywords, etc.\n",
    "    return None\n",
    "\n",
    "# Function to display contact information for reporting an issue\n",
    "def category(issue_category):\n",
    "    contact_info = {\n",
    "        \"abuse\": {\n",
    "            \"contact\": \"abuse@example.com\",\n",
    "            \"description\": \"Report abusive content to this email address.\"\n",
    "        },\n",
    "        \"harassment\": {\n",
    "            \"contact\": \"harassment@example.com\",\n",
    "            \"description\": \"Report harassment content to this email address.\"\n",
    "        }\n",
    "        # Add more categories and contact information as needed\n",
    "    }\n",
    "    \n",
    "    contact_email = contact_info.get(issue_category, {}).get(\"contact\")\n",
    "    \n",
    "    if contact_email:\n",
    "        print(f\"To report the issue, contact {contact_email}.\")\n",
    "        print(contact_info[issue_category][\"description\"])\n",
    "    else:\n",
    "        print(\"No contact information available for this issue category.\")\n",
    "\n",
    "# User input\n",
    "user_input = input('Please enter the path to your video/image: ')\n",
    "\n",
    "if '.mp4' in user_input:\n",
    "    video_input(user_input)\n",
    "elif '.png' in user_input:\n",
    "    image_input(user_input)\n",
    "else:\n",
    "    print('Please enter either Video (.mp4) or Image (.png) only')"
   ]
  },
  {
   "cell_type": "code",
   "execution_count": null,
   "id": "b06fae95",
   "metadata": {},
   "outputs": [],
   "source": []
  }
 ],
 "metadata": {
  "kernelspec": {
   "display_name": "Python 3 (ipykernel)",
   "language": "python",
   "name": "python3"
  },
  "language_info": {
   "codemirror_mode": {
    "name": "ipython",
    "version": 3
   },
   "file_extension": ".py",
   "mimetype": "text/x-python",
   "name": "python",
   "nbconvert_exporter": "python",
   "pygments_lexer": "ipython3",
   "version": "3.11.3"
  }
 },
 "nbformat": 4,
 "nbformat_minor": 5
}
